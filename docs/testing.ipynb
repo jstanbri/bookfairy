{
 "cells": [
  {
   "cell_type": "code",
   "execution_count": 6,
   "metadata": {},
   "outputs": [
    {
     "name": "stderr",
     "output_type": "stream",
     "text": [
      "sh: line 1: instagram-scraper: command not found\n"
     ]
    }
   ],
   "source": [
    "import os\n",
    "\n",
    "# Create a directory to store the scraped data\n",
    "if not os.path.exists(\"scraped_data\"):\n",
    "    os.makedirs(\"scraped_data\")\n",
    "\n",
    "def scrape_instagram(account, max_posts=50):\n",
    "    # Scrape the Instagram account and store results in 'scraped_data'\n",
    "    os.system(f'instagram-scraper {account} --media-metadata --maximum {max_posts} --comments --destination scraped_data')\n",
    "\n",
    "# Example usage\n",
    "scrape_instagram('book.fairyinwaiting', max_posts=50)"
   ]
  },
  {
   "cell_type": "code",
   "execution_count": 2,
   "metadata": {},
   "outputs": [],
   "source": [
    "import re\n",
    "\n",
    "def clean_text(text):\n",
    "    text = re.sub(r'[^a-zA-Z0-9\\s]', '', text)  # Remove punctuation\n",
    "    text = text.lower()  # Convert to lowercase\n",
    "    return text\n"
   ]
  },
  {
   "cell_type": "code",
   "execution_count": null,
   "metadata": {},
   "outputs": [],
   "source": [
    "from textblob import TextBlob\n",
    "\n",
    "def get_sentiment(review):\n",
    "    analysis = TextBlob(review)\n",
    "    return 'positive' if analysis.sentiment.polarity > 0 else 'negative'\n",
    "\n",
    "# Example usage\n",
    "review = \"This book is amazing and insightful!\"\n",
    "print(get_sentiment(review))  # Output: positive\n"
   ]
  },
  {
   "cell_type": "code",
   "execution_count": null,
   "metadata": {},
   "outputs": [],
   "source": [
    "from sklearn.feature_extraction.text import TfidfVectorizer\n",
    "from sklearn.metrics.pairwise import cosine_similarity\n",
    "import pandas as pd\n",
    "\n",
    "# Example list of book reviews\n",
    "reviews = [\n",
    "    \"This is a wonderful book about magic and fantasy.\",\n",
    "    \"An insightful book on leadership and personal growth.\",\n",
    "    \"A thrilling mystery novel with lots of twists and turns.\"\n",
    "]\n",
    "\n",
    "# Clean and preprocess the text\n",
    "cleaned_reviews = [clean_text(review) for review in reviews]\n",
    "\n",
    "# Create TF-IDF vectors for the reviews\n",
    "vectorizer = TfidfVectorizer(stop_words='english')\n",
    "tfidf_matrix = vectorizer.fit_transform(cleaned_reviews)\n",
    "\n",
    "# Calculate cosine similarity\n",
    "cosine_sim = cosine_similarity(tfidf_matrix, tfidf_matrix)\n",
    "\n",
    "# Display similarity matrix\n",
    "print(pd.DataFrame(cosine_sim, columns=['Book 1', 'Book 2', 'Book 3'], index=['Book 1', 'Book 2', 'Book 3']))\n"
   ]
  },
  {
   "cell_type": "code",
   "execution_count": null,
   "metadata": {},
   "outputs": [],
   "source": [
    "from flask import Flask, jsonify, request\n",
    "\n",
    "app = Flask(__name__)\n",
    "\n",
    "@app.route('/recommend', methods=['POST'])\n",
    "def recommend():\n",
    "    user_input = request.json['review']\n",
    "    # Use your recommendation engine to find similar books\n",
    "    recommended_books = get_recommendations(user_input)\n",
    "    return jsonify(recommendations=recommended_books)\n",
    "\n",
    "if __name__ == '__main__':\n",
    "    app.run(debug=True)\n"
   ]
  }
 ],
 "metadata": {
  "kernelspec": {
   "display_name": "bookfairy",
   "language": "python",
   "name": "python3"
  },
  "language_info": {
   "codemirror_mode": {
    "name": "ipython",
    "version": 3
   },
   "file_extension": ".py",
   "mimetype": "text/x-python",
   "name": "python",
   "nbconvert_exporter": "python",
   "pygments_lexer": "ipython3",
   "version": "3.12.7"
  }
 },
 "nbformat": 4,
 "nbformat_minor": 2
}
